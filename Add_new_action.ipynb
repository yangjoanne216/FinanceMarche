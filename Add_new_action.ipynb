{
 "cells": [
  {
   "cell_type": "markdown",
   "metadata": {},
   "source": [
    "## Générer des dossiers de nouveaux actifs\""
   ]
  },
  {
   "cell_type": "code",
   "execution_count": 7,
   "metadata": {},
   "outputs": [
    {
     "name": "stdout",
     "output_type": "stream",
     "text": [
      "Prétraitement terminé, fichier sauvegardé sous new actions csv/CAC40.csv\n"
     ]
    }
   ],
   "source": [
    "import pandas as pd\n",
    "\n",
    "chemin_fichier = \"CAC40.csv\" \n",
    "df = pd.read_csv(chemin_fichier, dtype=str)  \n",
    "\n",
    "chemin_fichier = \"CAC40.csv\"  \n",
    "df = pd.read_csv(chemin_fichier, dtype=str)  \n",
    "\n",
    "colonnes_numeriques = [\"Dernier\", \"Ouv.\", \" Plus Haut\", \"Plus Bas\", \"Vol.\"]  \n",
    "for col in colonnes_numeriques:\n",
    "    if col in df.columns:\n",
    "        df[col] = df[col].str.replace(r\"\\.(?=\\d{3})\", \"\", regex=True)  \n",
    "\n",
    "fichier_sortie = \"new actions csv/CAC40.csv\"\n",
    "df.to_csv(fichier_sortie, index=False, encoding=\"utf-8\")\n",
    "\n",
    "print(f\"Prétraitement terminé, fichier sauvegardé sous {fichier_sortie}\")"
   ]
  },
  {
   "cell_type": "code",
   "execution_count": 9,
   "metadata": {},
   "outputs": [
    {
     "name": "stdout",
     "output_type": "stream",
     "text": [
      "Conversion terminée : DassaultSystemes.csv → new actions/DassaultSystemes.xlsm (avec en-tête et format datetime correct)\n",
      "Conversion terminée : Capgemini.csv → new actions/Capgemini.xlsm (avec en-tête et format datetime correct)\n",
      "Conversion terminée : Hermes.csv → new actions/Hermes.xlsm (avec en-tête et format datetime correct)\n",
      "Conversion terminée : Michelin.csv → new actions/Michelin.xlsm (avec en-tête et format datetime correct)\n",
      "Conversion terminée : Sanofi.csv → new actions/Sanofi.xlsm (avec en-tête et format datetime correct)\n",
      "Conversion terminée : SaintGobain.csv → new actions/SaintGobain.xlsm (avec en-tête et format datetime correct)\n",
      "Conversion terminée : SchneiderElectric.csv → new actions/SchneiderElectric.xlsm (avec en-tête et format datetime correct)\n",
      "Conversion terminée : PernodRicard.csv → new actions/PernodRicard.xlsm (avec en-tête et format datetime correct)\n",
      "Conversion terminée : CreditAgricole.csv → new actions/CreditAgricole.xlsm (avec en-tête et format datetime correct)\n",
      "Conversion terminée : Carrefour.csv → new actions/Carrefour.xlsm (avec en-tête et format datetime correct)\n",
      "Conversion terminée : SocieteGenerale.csv → new actions/SocieteGenerale.xlsm (avec en-tête et format datetime correct)\n",
      "Conversion terminée : EssilorLuxottica.csv → new actions/EssilorLuxottica.xlsm (avec en-tête et format datetime correct)\n",
      "Conversion terminée : Danone.csv → new actions/Danone.xlsm (avec en-tête et format datetime correct)\n",
      "Conversion terminée : Thales.csv → new actions/Thales.xlsm (avec en-tête et format datetime correct)\n",
      "Conversion terminée : Vinci.csv → new actions/Vinci.xlsm (avec en-tête et format datetime correct)\n",
      "Conversion terminée : STMicroelectronics.csv → new actions/STMicroelectronics.xlsm (avec en-tête et format datetime correct)\n",
      "Conversion terminée : Oreal.csv → new actions/Oreal.xlsm (avec en-tête et format datetime correct)\n",
      "Conversion terminée : Kering.csv → new actions/Kering.xlsm (avec en-tête et format datetime correct)\n"
     ]
    }
   ],
   "source": [
    "import os\n",
    "import pandas as pd\n",
    "from openpyxl.styles import numbers\n",
    "\n",
    "# Définir les dossiers d'entrée et de sortie\n",
    "dossier_entree = \"new actions csv\"  # Dossier contenant les fichiers CSV\n",
    "dossier_sortie = \"new actions\"  # Dossier pour enregistrer les fichiers XLSX\n",
    "\n",
    "# Vérifier si le dossier de sortie existe, sinon le créer\n",
    "if not os.path.exists(dossier_sortie):\n",
    "    os.makedirs(dossier_sortie)\n",
    "\n",
    "# Parcourir tous les fichiers CSV dans le dossier d'entrée\n",
    "for fichier in os.listdir(dossier_entree):\n",
    "    if fichier.endswith(\".csv\"):  # Vérifier que le fichier est un CSV\n",
    "        chemin_fichier = os.path.join(dossier_entree, fichier)\n",
    "        \n",
    "        try:\n",
    "            # Lire le fichier CSV en tant que texte brut\n",
    "            df = pd.read_csv(chemin_fichier, dtype=str)\n",
    "            df.columns = df.columns.str.strip()  # Supprimer les espaces des noms de colonnes\n",
    "\n",
    "            # Extraire le nom du fichier sans extension pour l'utiliser comme \"Actif\"\n",
    "            nom_actif = os.path.splitext(fichier)[0]\n",
    "\n",
    "            # Dictionnaire de correspondance des noms de colonnes\n",
    "            correspondance_colonnes = {\n",
    "                \"Date\": \"Date\",\n",
    "                \"Ouv.\": \"Ouverture\",\n",
    "                \"Plus Haut\": \"Max\",\n",
    "                \"Plus Bas\": \"Min\",\n",
    "                \"Dernier\": \"Fermeture\",\n",
    "                \"Vol.\": \"Volume\"\n",
    "            }\n",
    "\n",
    "            # Renommer les colonnes existantes si elles sont présentes dans le fichier\n",
    "            colonnes_valides = {ancien: nouveau for ancien, nouveau in correspondance_colonnes.items() if ancien in df.columns}\n",
    "            df = df.rename(columns=colonnes_valides)\n",
    "\n",
    "            # Conserver uniquement les colonnes souhaitées\n",
    "            colonnes_finales = [\"Date\", \"Ouverture\", \"Max\", \"Min\", \"Fermeture\", \"Volume\"]\n",
    "            df = df.reindex(columns=colonnes_finales)\n",
    "\n",
    "            # Ajouter la colonne \"Actif\"\n",
    "            df.insert(0, \"Actif\", nom_actif)\n",
    "\n",
    "            # Convertir la colonne \"Date\" au format datetime et trier par ordre chronologique\n",
    "            df[\"Date\"] = pd.to_datetime(df[\"Date\"], format=\"%d/%m/%Y\", errors=\"coerce\")\n",
    "            df = df.sort_values(by=\"Date\")\n",
    "\n",
    "            # Convertir les colonnes numériques en float (en remplaçant les virgules par des points)\n",
    "            colonnes_numeriques = [\"Ouverture\", \"Max\", \"Min\", \"Fermeture\"]\n",
    "            for col in colonnes_numeriques:\n",
    "                df[col] = df[col].str.replace(\",\", \".\", regex=True).astype(float)\n",
    "\n",
    "            # Convertir la colonne \"Volume\" en valeurs numériques\n",
    "            def convertir_volume(volume):\n",
    "                if isinstance(volume, str):\n",
    "                    volume = volume.replace(\",\", \".\")  # Remplacer la virgule par un point\n",
    "                    if \"K\" in volume:\n",
    "                        return float(volume.replace(\"K\", \"\")) * 1000  # Convertir en milliers\n",
    "                    elif \"M\" in volume:\n",
    "                        return float(volume.replace(\"M\", \"\")) * 1000000  # Convertir en millions\n",
    "                return pd.to_numeric(volume, errors=\"coerce\")  # Autres cas, conversion en numérique\n",
    "\n",
    "            df[\"Volume\"] = df[\"Volume\"].apply(convertir_volume)\n",
    "\n",
    "            # Générer le chemin de sortie avec le format .xlsx (Excel)\n",
    "            fichier_sortie = os.path.join(dossier_sortie, f\"{nom_actif}.xlsm\")\n",
    "\n",
    "            # Enregistrer les données dans un fichier Excel avec mise en forme correcte\n",
    "            with pd.ExcelWriter(fichier_sortie, engine=\"openpyxl\") as writer:\n",
    "                df.to_excel(writer, sheet_name=\"Actions Data\", index=False, header=False)\n",
    "                workbook = writer.book\n",
    "                worksheet = writer.sheets[\"Actions Data\"]\n",
    "                \n",
    "                # Appliquer le format de date correct dans Excel\n",
    "                for row in range(2, worksheet.max_row + 1):\n",
    "                    cell = worksheet.cell(row=row, column=2)  # B colonne est la date\n",
    "                    cell.number_format = 'm/d/yyyy'  # Format d'affichage Excel\n",
    "\n",
    "            print(f\"Conversion terminée : {fichier} → {fichier_sortie} (avec en-tête et format datetime correct)\")\n",
    "        \n",
    "        except Exception as e:\n",
    "            print(f\"Erreur lors de la lecture du fichier {fichier} : {e}\")\n"
   ]
  }
 ],
 "metadata": {
  "kernelspec": {
   "display_name": "Python 3",
   "language": "python",
   "name": "python3"
  },
  "language_info": {
   "codemirror_mode": {
    "name": "ipython",
    "version": 3
   },
   "file_extension": ".py",
   "mimetype": "text/x-python",
   "name": "python",
   "nbconvert_exporter": "python",
   "pygments_lexer": "ipython3",
   "version": "3.9.6"
  }
 },
 "nbformat": 4,
 "nbformat_minor": 2
}
