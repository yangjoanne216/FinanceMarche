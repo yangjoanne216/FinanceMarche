{
 "cells": [
  {
   "cell_type": "markdown",
   "metadata": {},
   "source": [
    "## Générer des dossiers de nouvelles actifs"
   ]
  },
  {
   "cell_type": "code",
   "execution_count": 2,
   "metadata": {},
   "outputs": [
    {
     "name": "stdout",
     "output_type": "stream",
     "text": [
      "Conversion terminée : Generali.csv → new actions/Generali.xlsx (sans en-tête)\n",
      "Conversion terminée : Sanofi.csv → new actions/Sanofi.xlsx (sans en-tête)\n",
      "Conversion terminée : AirBus.csv → new actions/AirBus.xlsx (sans en-tête)\n",
      "Conversion terminée : SchneiderElectric.csv → new actions/SchneiderElectric.xlsx (sans en-tête)\n",
      "Conversion terminée : Bouygues.csv → new actions/Bouygues.xlsx (sans en-tête)\n"
     ]
    }
   ],
   "source": [
    "import os\n",
    "import pandas as pd\n",
    "\n",
    "# Définir les dossiers d'entrée et de sortie\n",
    "dossier_entree = \"new actions csv\"  # Dossier contenant les fichiers CSV\n",
    "dossier_sortie = \"new actions\"  # Dossier pour enregistrer les fichiers XLSX\n",
    "\n",
    "# Vérifier si le dossier de sortie existe, sinon le créer\n",
    "if not os.path.exists(dossier_sortie):\n",
    "    os.makedirs(dossier_sortie)\n",
    "\n",
    "# Parcourir tous les fichiers CSV dans le dossier d'entrée\n",
    "for fichier in os.listdir(dossier_entree):\n",
    "    if fichier.endswith(\".csv\"):  # Vérifier que le fichier est un CSV\n",
    "        chemin_fichier = os.path.join(dossier_entree, fichier)\n",
    "        \n",
    "        try:\n",
    "            # Lire le fichier CSV en tant que texte brut\n",
    "            df = pd.read_csv(chemin_fichier, dtype=str)\n",
    "            df.columns = df.columns.str.strip()  # Supprimer les espaces des noms de colonnes\n",
    "\n",
    "            # Extraire le nom du fichier sans extension pour l'utiliser comme \"Actif\"\n",
    "            nom_actif = os.path.splitext(fichier)[0]\n",
    "\n",
    "            # Dictionnaire de correspondance des noms de colonnes\n",
    "            correspondance_colonnes = {\n",
    "                \"Date\": \"Dates\",\n",
    "                \"Ouv.\": \"Ouverture\",\n",
    "                \"Plus Haut\": \"Max\",\n",
    "                \"Plus Bas\": \"Min\",\n",
    "                \"Dernier\": \"Fermeture\",\n",
    "                \"Vol.\": \"Volume\"\n",
    "            }\n",
    "\n",
    "            # Renommer les colonnes existantes si elles sont présentes dans le fichier\n",
    "            colonnes_valides = {ancien: nouveau for ancien, nouveau in correspondance_colonnes.items() if ancien in df.columns}\n",
    "            df = df.rename(columns=colonnes_valides)\n",
    "\n",
    "            # Conserver uniquement les colonnes souhaitées\n",
    "            colonnes_finales = [\"Dates\", \"Ouverture\", \"Max\", \"Min\", \"Fermeture\", \"Volume\"]\n",
    "            df = df.reindex(columns=colonnes_finales)\n",
    "\n",
    "            # Ajouter la colonne \"Actif\"\n",
    "            df.insert(0, \"Actif\", nom_actif)\n",
    "\n",
    "            # Convertir la colonne \"Dates\" au format datetime et trier par ordre chronologique\n",
    "            df[\"Dates\"] = pd.to_datetime(df[\"Dates\"], format=\"%d/%m/%Y\", errors=\"coerce\")\n",
    "\n",
    "            # Reformater les dates pour ne garder que \"JJ/MM/AAAA\"\n",
    "            df[\"Dates\"] = df[\"Dates\"].dt.strftime(\"%d/%m/%Y\")\n",
    "            df = df.sort_values(by=\"Dates\")\n",
    "\n",
    "            # Convertir les colonnes numériques en float (en remplaçant les virgules par des points)\n",
    "            colonnes_numeriques = [\"Ouverture\", \"Max\", \"Min\", \"Fermeture\"]\n",
    "            for col in colonnes_numeriques:\n",
    "                df[col] = df[col].str.replace(\",\", \".\", regex=True).astype(float)\n",
    "\n",
    "            # Convertir la colonne \"Volume\" en valeurs numériques\n",
    "            def convertir_volume(volume):\n",
    "                if isinstance(volume, str):\n",
    "                    volume = volume.replace(\",\", \".\")  # Remplacer la virgule par un point\n",
    "                    if \"K\" in volume:\n",
    "                        return float(volume.replace(\"K\", \"\")) * 1000  # Convertir en milliers\n",
    "                    elif \"M\" in volume:\n",
    "                        return float(volume.replace(\"M\", \"\")) * 1000000  # Convertir en millions\n",
    "                return pd.to_numeric(volume, errors=\"coerce\")  # Autres cas, conversion en numérique\n",
    "\n",
    "            df[\"Volume\"] = df[\"Volume\"].apply(convertir_volume)\n",
    "\n",
    "            # Générer le chemin de sortie avec le format .xlsx (Excel)\n",
    "            fichier_sortie = os.path.join(dossier_sortie, f\"{nom_actif}.xlsx\")\n",
    "\n",
    "            # Enregistrer les données dans un fichier Excel sans l'en-tête\n",
    "            with pd.ExcelWriter(fichier_sortie, engine=\"openpyxl\") as writer:\n",
    "                df.to_excel(writer, sheet_name=\"Actions Data\", index=False, header=False)\n",
    "\n",
    "            print(f\"Conversion terminée : {fichier} → {fichier_sortie} (sans en-tête)\")\n",
    "\n",
    "        except Exception as e:\n",
    "            print(f\"Erreur lors de la lecture du fichier {fichier} : {e}\")\n"
   ]
  },
  {
   "cell_type": "markdown",
   "metadata": {},
   "source": [
    "## Générer un dossier de CAC40"
   ]
  },
  {
   "cell_type": "code",
   "execution_count": 5,
   "metadata": {},
   "outputs": [],
   "source": [
    "# traitement de Cac40.xlsx\n",
    "df=pd.read_excel(\"Cac40.xlsx\")\n",
    "# Convertir la colonne \"Dates\" au format datetime et trier par ordre chronologique\n",
    "df = df.sort_values(by=\"Dates\")\n",
    "df[\"Dates\"] = pd.to_datetime(df[\"Dates\"], format=\"%d/%m/%Y\", errors=\"coerce\")\n",
    "# Reformater les dates pour ne garder que \"JJ/MM/AAAA\"\n",
    "df[\"Dates\"] = df[\"Dates\"].dt.strftime(\"%d/%m/%Y\")\n",
    "\n",
    "df.to_excel(\"new actions/Cac40.xlsx\",index=False,header=False)\n",
    "\n",
    "\n"
   ]
  }
 ],
 "metadata": {
  "kernelspec": {
   "display_name": "Python 3",
   "language": "python",
   "name": "python3"
  },
  "language_info": {
   "codemirror_mode": {
    "name": "ipython",
    "version": 3
   },
   "file_extension": ".py",
   "mimetype": "text/x-python",
   "name": "python",
   "nbconvert_exporter": "python",
   "pygments_lexer": "ipython3",
   "version": "3.9.6"
  }
 },
 "nbformat": 4,
 "nbformat_minor": 2
}
